{
 "cells": [
  {
   "cell_type": "markdown",
   "metadata": {},
   "source": [
    "## Introduction to sparse matrices\n",
    "\n",
    "A sparse matrix is just a matrix that is mostly zero. Typically, when people talk about sparse matrices in numerical computations, they mean matrices that are mostly zero and are represented in a way that takes advantage of that sparsity to reduce required storage or optimize operations.\n",
    "\n",
    "As an extreme case, imagine a $M \\times N$ matrix where $M = N = 1000000$, which is entirely zero save for a single $1$ at $(42, 999999)$. It's obvious that storing a trillion values—or 64Tb of 64-bit integers—is unnecessary, and we can write software which just assumes that the value is 0 at every index besides row $42$, column $999999$. We can describe this entire matrix with 5 integers:\n",
    "\n",
    "$M=1000000$, $N=1000000$\n",
    "\n",
    "$v=1$, $r=42$, $c=999999$.\n",
    "\n",
    "If we had a second value $3$ at position $(33, 34)$, the same scheme would still work reasonably well:\n",
    "\n",
    "$M=1000000$, $N=1000000$\n",
    "\n",
    "$v_0=1$, $r_0=42$, $c_0=999999$\n",
    "\n",
    "$v_1=3$, $r_1=33$, $c_1=34$.\n",
    "\n",
    "<!-- TEASER_END -->\n",
    "\n",
    "This is similar to the [Dictionary of Keys](#DOK-representation) format and the [COOrdinate](#COO-representation) format.\n",
    "\n",
    "Of course, taken to the other extreme, this is quite inefficient. If this array were fully dense, with all nonzero values, we would have to store roughly three times as many numbers than if we had just stored the values consecutively in an array.\n",
    "\n",
    "To understand how these different representations work, let's use some toy examples constructed from small matrices. In practice, there isn't much benefit to storing anything so small or so dense as a sparse matrix, but they're useful for illustrative purposes. Below we have a $(5, 5)$ matrix in which every value is either $0$ or $1$ with most values being $0$."
   ]
  },
  {
   "cell_type": "code",
   "execution_count": 1,
   "metadata": {
    "collapsed": false
   },
   "outputs": [
    {
     "data": {
      "text/plain": [
       "matrix([[0, 0, 0, 1, 0],\n",
       "        [0, 0, 0, 0, 0],\n",
       "        [0, 0, 0, 1, 0],\n",
       "        [0, 0, 1, 0, 1],\n",
       "        [0, 1, 0, 1, 0]])"
      ]
     },
     "execution_count": 1,
     "metadata": {},
     "output_type": "execute_result"
    }
   ],
   "source": [
    "import numpy as np\n",
    "\n",
    "m = np.matrix([\n",
    "    [0, 0, 0, 1, 0],\n",
    "    [0, 0, 0, 0, 0],\n",
    "    [0, 0, 0, 1, 0],\n",
    "    [0, 0, 1, 0, 1],\n",
    "    [0, 1, 0, 1, 0]\n",
    "])\n",
    "\n",
    "m"
   ]
  },
  {
   "cell_type": "markdown",
   "metadata": {},
   "source": [
    "For the remainder of this post, we'll take advantage of HTML display in notebooks and the [`sympy`](http://sympy.org) pretty printer to display matrices using a little utility function."
   ]
  },
  {
   "cell_type": "code",
   "execution_count": 2,
   "metadata": {
    "collapsed": false
   },
   "outputs": [
    {
     "data": {
      "text/latex": [
       "$$\\left[\\begin{matrix}0 & 0 & 0 & 1 & 0\\\\0 & 0 & 0 & 0 & 0\\\\0 & 0 & 0 & 1 & 0\\\\0 & 0 & 1 & 0 & 1\\\\0 & 1 & 0 & 1 & 0\\end{matrix}\\right]$$"
      ],
      "text/plain": [
       "⎡0  0  0  1  0⎤\n",
       "⎢             ⎥\n",
       "⎢0  0  0  0  0⎥\n",
       "⎢             ⎥\n",
       "⎢0  0  0  1  0⎥\n",
       "⎢             ⎥\n",
       "⎢0  0  1  0  1⎥\n",
       "⎢             ⎥\n",
       "⎣0  1  0  1  0⎦"
      ]
     },
     "metadata": {},
     "output_type": "display_data"
    }
   ],
   "source": [
    "# the following is purely for the purposes of pretty printing matrices\n",
    "from IPython.display import display\n",
    "import sympy; sympy.init_printing()\n",
    "\n",
    "def display_matrix(m):\n",
    "    display(sympy.Matrix(m))\n",
    "\n",
    "\n",
    "display_matrix(m)"
   ]
  },
  {
   "cell_type": "markdown",
   "metadata": {},
   "source": [
    "Much better!\n",
    "\n",
    "Our first matrix here is sparse in the strict mathematical sense — it's mostly zero — but we're using `np.matrix`, a dense matrix object. To make sparse matrices, we'll make use of the objects provided by `scipy.sparse`.\n",
    "\n",
    "The `scipy` sparse matrix constructors all accept dense matrices as inputs, which will allow us to create sparse matrices from our contrived examples and take them apart and see how they work.\n",
    "\n",
    "---\n",
    "\n",
    "## COO representation\n",
    "\n",
    "[scipy.sparse.coo_matrix API docs](https://docs.scipy.org/doc/scipy/reference/generated/scipy.sparse.coo_matrix.html#scipy.sparse.coo_matrix) | [wikipedia](https://en.wikipedia.org/wiki/Sparse_matrix#Coordinate_list_.28COO.29)\n",
    "\n",
    "First on our list is `COO` representation. The capitalization of the name might make it seem like an acronym, but it's just an abbreviation of coordinate, and the format itself is quite comprehensible."
   ]
  },
  {
   "cell_type": "code",
   "execution_count": 3,
   "metadata": {
    "collapsed": false
   },
   "outputs": [
    {
     "data": {
      "text/plain": [
       "<5x5 sparse matrix of type '<class 'numpy.int64'>'\n",
       "\twith 6 stored elements in COOrdinate format>"
      ]
     },
     "execution_count": 3,
     "metadata": {},
     "output_type": "execute_result"
    }
   ],
   "source": [
    "from scipy import sparse\n",
    "\n",
    "mat_coo = sparse.coo_matrix(m)\n",
    "mat_coo"
   ]
  },
  {
   "cell_type": "markdown",
   "metadata": {},
   "source": [
    "The `repr` of a sparse matrix doesn't show any of the data like a standard matrix does. And `sympy` doesn't understand sparse matrices of this type. To see the data, we'll have to coerce the representation back to dense.\n",
    "\n",
    "All sparse matrix representations in `scipy` have a `todense()` method which converts the matrix to a standard `numpy` matrix. (Again, the traditional definition of sparse matrix is in conflict with the conventional definition—`todense()` just changes the representation. It does not fill the zeros in with nonzero values.)"
   ]
  },
  {
   "cell_type": "code",
   "execution_count": 4,
   "metadata": {
    "collapsed": false
   },
   "outputs": [
    {
     "data": {
      "text/latex": [
       "$$\\left[\\begin{matrix}0 & 0 & 0 & 1 & 0\\\\0 & 0 & 0 & 0 & 0\\\\0 & 0 & 0 & 1 & 0\\\\0 & 0 & 1 & 0 & 1\\\\0 & 1 & 0 & 1 & 0\\end{matrix}\\right]$$"
      ],
      "text/plain": [
       "⎡0  0  0  1  0⎤\n",
       "⎢             ⎥\n",
       "⎢0  0  0  0  0⎥\n",
       "⎢             ⎥\n",
       "⎢0  0  0  1  0⎥\n",
       "⎢             ⎥\n",
       "⎢0  0  1  0  1⎥\n",
       "⎢             ⎥\n",
       "⎣0  1  0  1  0⎦"
      ]
     },
     "metadata": {},
     "output_type": "display_data"
    }
   ],
   "source": [
    "display_matrix(mat_coo.todense())"
   ]
  },
  {
   "cell_type": "markdown",
   "metadata": {},
   "source": [
    "If you're like me, you might be tempted to dig into the `scipy` source to see how `todense()` is implemented on the various matrix representations. Unfortunately for us, the `scipy` source does not give itself over to inspection so easily. If you're comfortable with Fortran, LAPACK, BLAS, ATLAS, etc., the source might make more sense, but in that case, you likely have no need for this post. Instead, let's take a look at the way attributes on the COO matrix instance to see how the data is stored.\n",
    "\n",
    "COO matrices store the value, row and column for each nonzero item in the matrix. While [wikipedia](https://en.wikipedia.org/wiki/Sparse_matrix#Coordinate_list_.28COO.29) describes the COO format as consisting of 3-value tuples with $(row, column, value)$ for each nonzero item, the `scipy` implementation stores the data, the row indices and the column indices each as their own array with a length equal to the number of nonzero items ($NNZ$)."
   ]
  },
  {
   "cell_type": "code",
   "execution_count": 5,
   "metadata": {
    "collapsed": false
   },
   "outputs": [
    {
     "data": {
      "text/plain": [
       "(array([0, 2, 3, 3, 4, 4], dtype=int32),\n",
       " array([3, 3, 2, 4, 1, 3], dtype=int32),\n",
       " array([1, 1, 1, 1, 1, 1]))"
      ]
     },
     "execution_count": 5,
     "metadata": {},
     "output_type": "execute_result"
    }
   ],
   "source": [
    "mat_coo.row, mat_coo.col, mat_coo.data"
   ]
  },
  {
   "cell_type": "markdown",
   "metadata": {},
   "source": [
    "This is easy to read and understand; at row $0$, column $3$, the value is $1$. In fact, we can easily see that all nonzero values are $1$.\n",
    "\n",
    "Let's construct a slightly-less-trivial example where the values are the integers from $1$ to $10$."
   ]
  },
  {
   "cell_type": "code",
   "execution_count": 6,
   "metadata": {
    "collapsed": false
   },
   "outputs": [],
   "source": [
    "data = list(range(1, 11))\n",
    "rows = [0, 0, 2, 2, 2, 2, 3, 3, 4, 4]\n",
    "cols = [3, 4, 0, 1, 3, 4, 1, 3, 0, 4]"
   ]
  },
  {
   "cell_type": "markdown",
   "metadata": {},
   "source": [
    " `scipy.sparse.coo_matrix` accepts data in the canonical representation as two-tuple, in which the first item is the nonzero values, and the second item is itself a two-value tuple with the rows and columns repesctively. A second argument `shape` is required, or else it would be unclear whether empty rows and columns existed beyond the bounds of the explicitly provided data."
   ]
  },
  {
   "cell_type": "code",
   "execution_count": 7,
   "metadata": {
    "collapsed": false
   },
   "outputs": [
    {
     "data": {
      "text/latex": [
       "$$\\left[\\begin{matrix}0 & 0 & 0 & 1 & 2\\\\0 & 0 & 0 & 0 & 0\\\\3 & 4 & 0 & 5 & 6\\\\0 & 7 & 0 & 8 & 0\\\\9 & 0 & 0 & 0 & 10\\end{matrix}\\right]$$"
      ],
      "text/plain": [
       "⎡0  0  0  1  2 ⎤\n",
       "⎢              ⎥\n",
       "⎢0  0  0  0  0 ⎥\n",
       "⎢              ⎥\n",
       "⎢3  4  0  5  6 ⎥\n",
       "⎢              ⎥\n",
       "⎢0  7  0  8  0 ⎥\n",
       "⎢              ⎥\n",
       "⎣9  0  0  0  10⎦"
      ]
     },
     "metadata": {},
     "output_type": "display_data"
    }
   ],
   "source": [
    "display_matrix(\n",
    "    sparse.coo_matrix((data, (rows, cols)), (5, 5)).todense())"
   ]
  },
  {
   "cell_type": "markdown",
   "metadata": {},
   "source": [
    "As I mentioned before, it's not easy to find and read the points in the `scipy` source where the various sparse representations are constructed and made dense. To illustrate how these operations and other work, let's make our own. I'm going to prefix all these simplistic sparse matrix classes with `Naive` because they're only for illustrative purposes. Real world sparse matrix libraries handle lots of corner cases, take advantage of sorting to optimize certain operations and call out to lower-level code to optimize other operations. Ours will do none of these things and instead focus on iteration, setting and getting values in order to make the details of these formats more intuitive.\n",
    "\n",
    "Below is an abstract base class describing everything we want our sparse matrix classes to handle. We'll only handle a couple bits of common functionality in our base class. It accepts and validates a keyword argument for `shape` and saves that as an instance property; likewise for a `dtype` argument which sets the type of the data (eg. float, int). It also assumes that we'll define iteration, and uses that to implement a `to_dense` method and a utility method for pretty printing it using `sympy`."
   ]
  },
  {
   "cell_type": "code",
   "execution_count": 8,
   "metadata": {
    "collapsed": true
   },
   "outputs": [],
   "source": [
    "class NaiveSparseMatrix(object):\n",
    "    \n",
    "    def __init__(self, shape=None, dtype=np.int64):\n",
    "        if shape is None or len(shape) != 2:\n",
    "            raise ValueError('shape must be provided as (M, N)')\n",
    "        self.shape = shape\n",
    "        self.dtype = dtype\n",
    "        \n",
    "    def __iter__(self):\n",
    "        raise NotImplementedError\n",
    "        \n",
    "    def __get__(self):\n",
    "        raise NotImplementedError\n",
    "        \n",
    "    def __set__(self):\n",
    "        raise NotImplementedError\n",
    "    \n",
    "    def __len__(self):\n",
    "        raise NotImplementedError\n",
    "\n",
    "    def to_dense(self):\n",
    "        # Our simplistic densification method constructs a numpy array, full\n",
    "        # of zeros, of the same shape as the sparse matrix, and then\n",
    "        # progressively fills it up by iterating over the nonzero values and\n",
    "        # indices and assigning accordingly.\n",
    "        mat = np.matrix(np.zeros(shape=self.shape, dtype=self.dtype))\n",
    "        for row, column, value in self:\n",
    "            mat[row, column] = value\n",
    "        return mat\n",
    "        \n",
    "    def display(self):\n",
    "        return display_matrix(self.to_dense())"
   ]
  },
  {
   "cell_type": "markdown",
   "metadata": {},
   "source": [
    "The COO format is simple and our `NaiveCOOMatrix` class reflects that simplicity.\n",
    "\n",
    "The advantages of the format are easy to see, too. The canonical representation makes it trivial to iterate over the nonzero values; as a consequence, it's easy to construct, it's easy to iterate over the nonzero values, and it's easy to set and get items by their indices."
   ]
  },
  {
   "cell_type": "code",
   "execution_count": 9,
   "metadata": {
    "collapsed": true
   },
   "outputs": [],
   "source": [
    "class NaiveCOOMatrix(NaiveSparseMatrix):\n",
    "    \n",
    "    def __init__(self, items, **kwargs):\n",
    "        # Accept a single positional argument which is the format described by\n",
    "        # wikipedia—a list of (row, column, value) tuples.\n",
    "        self.items = items\n",
    "        super().__init__(**kwargs)\n",
    "        \n",
    "    def __iter__(self):\n",
    "        # We want our iterator to iterate (row, column, value) tuples, which is\n",
    "        # trivial in this format.\n",
    "        for row, column, value in self.items:\n",
    "            yield row, column, value\n",
    "    \n",
    "    def __getitem__(self, coord):\n",
    "        # To find an item by coordinate, we just iterate over nonzero values\n",
    "        # and look for matching coordinates.\n",
    "        for row, column, value in self.items:\n",
    "            if (row, column) == coord:\n",
    "                return value\n",
    "            \n",
    "        # If we don't find it in the explicitly defined items, we know it's 0.\n",
    "        return 0\n",
    "            \n",
    "    def __setitem__(self, coord, new_value):\n",
    "        # Setting is similar to getting; we look for a matching coordinate, and\n",
    "        # if we find one, we overwrite the value at the corresponding index in\n",
    "        # the values array.\n",
    "        for index, (row, column, value) in enumerate(self.items):\n",
    "            if (row, column) == coord:\n",
    "                self.items[index] = (row, column, new_value)\n",
    "                break\n",
    "        # If we don't find it, we can just append it to the items array.\n",
    "        # Arguably, we should care about inserting it at a sorted position so\n",
    "        # that iteration order makes more sense, but that's not a concern for\n",
    "        # our toy examples.\n",
    "        else:\n",
    "            self.items.append((coord[0], coord[1], new_value))\n",
    "            \n",
    "    def __len__(self):\n",
    "        # Counting nonzero is also easy for this representation. We have as\n",
    "        # many items as we have nonzero values.\n",
    "        return len(self.items)"
   ]
  },
  {
   "cell_type": "markdown",
   "metadata": {},
   "source": [
    "OK! We've made a class for representing a sparse matrix. Besides the obvious optimizations, ours differs in some really important ways from `scipy.sparse.coo_matrix`.\n",
    "\n",
    "- It accepts a list of (row, column, value) tuples rather 3 arrays, one of each kind.\n",
    "- We spell it `to_dense()` rather than `todense()` because we're good people who like nice APIs.\n",
    "- `scipy.sparse.coo_matrix` doesn't support indexing or assignment, and _does_ support a whole range of mathematical operations.\n",
    "- Ours supports iterating nonzero values along with their indices, but doesn't guarantee an order. It's not clear how useful this is, but all the previously-stated caveats about this being for illustrative perhaps apply here.\n",
    "\n",
    "Since ours accepts the data in a different format, let's put our data into that format and construct it."
   ]
  },
  {
   "cell_type": "code",
   "execution_count": 10,
   "metadata": {
    "collapsed": false
   },
   "outputs": [
    {
     "data": {
      "text/latex": [
       "$$\\left[\\begin{matrix}0 & 0 & 0 & 1 & 2\\\\0 & 0 & 0 & 0 & 0\\\\3 & 4 & 0 & 5 & 6\\\\0 & 7 & 0 & 8 & 0\\\\9 & 0 & 0 & 0 & 10\\end{matrix}\\right]$$"
      ],
      "text/plain": [
       "⎡0  0  0  1  2 ⎤\n",
       "⎢              ⎥\n",
       "⎢0  0  0  0  0 ⎥\n",
       "⎢              ⎥\n",
       "⎢3  4  0  5  6 ⎥\n",
       "⎢              ⎥\n",
       "⎢0  7  0  8  0 ⎥\n",
       "⎢              ⎥\n",
       "⎣9  0  0  0  10⎦"
      ]
     },
     "metadata": {},
     "output_type": "display_data"
    }
   ],
   "source": [
    "items = list(zip(rows, cols, data))\n",
    "\n",
    "naive_coo = NaiveCOOMatrix(items, shape=(5, 5))\n",
    "naive_coo.display()"
   ]
  },
  {
   "cell_type": "markdown",
   "metadata": {},
   "source": [
    "We did it! Let's sanity check our implementation by accessing a defined value, $5$ at position $(2, 3)$."
   ]
  },
  {
   "cell_type": "code",
   "execution_count": 11,
   "metadata": {
    "collapsed": false
   },
   "outputs": [
    {
     "data": {
      "image/png": "[encoded data removed]",
      "text/latex": [
       "$$5$$"
      ],
      "text/plain": [
       "5"
      ]
     },
     "execution_count": 11,
     "metadata": {},
     "output_type": "execute_result"
    }
   ],
   "source": [
    "naive_coo[2, 3]"
   ]
  },
  {
   "cell_type": "markdown",
   "metadata": {},
   "source": [
    "Accessing $(0, 0)$, for which we didn't supply a value, should return $0$."
   ]
  },
  {
   "cell_type": "code",
   "execution_count": 12,
   "metadata": {
    "collapsed": false
   },
   "outputs": [
    {
     "data": {
      "image/png": "[encoded data removed]",
      "text/latex": [
       "$$0$$"
      ],
      "text/plain": [
       "0"
      ]
     },
     "execution_count": 12,
     "metadata": {},
     "output_type": "execute_result"
    }
   ],
   "source": [
    "naive_coo[0, 0]"
   ]
  },
  {
   "cell_type": "markdown",
   "metadata": {},
   "source": [
    "We define its `__len__` as the number of its nonzero values."
   ]
  },
  {
   "cell_type": "code",
   "execution_count": 13,
   "metadata": {
    "collapsed": false
   },
   "outputs": [
    {
     "data": {
      "image/png": "[encoded data removed]",
      "text/latex": [
       "$$10$$"
      ],
      "text/plain": [
       "10"
      ]
     },
     "execution_count": 13,
     "metadata": {},
     "output_type": "execute_result"
    }
   ],
   "source": [
    "len(naive_coo)"
   ]
  },
  {
   "cell_type": "markdown",
   "metadata": {},
   "source": [
    "If we assign a nonzero value to $(0, 0)$, we should be able to access it subsequently."
   ]
  },
  {
   "cell_type": "code",
   "execution_count": 14,
   "metadata": {
    "collapsed": false
   },
   "outputs": [
    {
     "data": {
      "text/latex": [
       "$$\\left[\\begin{matrix}-1 & 0 & 0 & 1 & 2\\\\0 & 0 & 0 & 0 & 0\\\\3 & 4 & 0 & 5 & 6\\\\0 & 7 & 0 & 8 & 0\\\\9 & 0 & 0 & 0 & 10\\end{matrix}\\right]$$"
      ],
      "text/plain": [
       "⎡-1  0  0  1  2 ⎤\n",
       "⎢               ⎥\n",
       "⎢0   0  0  0  0 ⎥\n",
       "⎢               ⎥\n",
       "⎢3   4  0  5  6 ⎥\n",
       "⎢               ⎥\n",
       "⎢0   7  0  8  0 ⎥\n",
       "⎢               ⎥\n",
       "⎣9   0  0  0  10⎦"
      ]
     },
     "metadata": {},
     "output_type": "display_data"
    }
   ],
   "source": [
    "naive_coo[0, 0] = -1\n",
    "naive_coo.display()"
   ]
  },
  {
   "cell_type": "code",
   "execution_count": 15,
   "metadata": {
    "collapsed": false
   },
   "outputs": [
    {
     "data": {
      "image/png": "[encoded data removed]",
      "text/latex": [
       "$$-1$$"
      ],
      "text/plain": [
       "-1"
      ]
     },
     "execution_count": 15,
     "metadata": {},
     "output_type": "execute_result"
    }
   ],
   "source": [
    "naive_coo[0, 0]"
   ]
  },
  {
   "cell_type": "markdown",
   "metadata": {},
   "source": [
    "And now the len should be a bit bigger."
   ]
  },
  {
   "cell_type": "code",
   "execution_count": 16,
   "metadata": {
    "collapsed": false
   },
   "outputs": [
    {
     "data": {
      "image/png": "[encoded data removed]",
      "text/latex": [
       "$$11$$"
      ],
      "text/plain": [
       "11"
      ]
     },
     "execution_count": 16,
     "metadata": {},
     "output_type": "execute_result"
    }
   ],
   "source": [
    "len(naive_coo)"
   ]
  },
  {
   "cell_type": "markdown",
   "metadata": {},
   "source": [
    "Assigning a new value to a coordinate with a nonzero value should overwrite the existing value and not increase the length."
   ]
  },
  {
   "cell_type": "code",
   "execution_count": 17,
   "metadata": {
    "collapsed": false
   },
   "outputs": [
    {
     "data": {
      "text/latex": [
       "$$\\left[\\begin{matrix}-1 & 0 & 0 & 1 & 2\\\\0 & 0 & 0 & 0 & 0\\\\3 & 4 & 0 & 99 & 6\\\\0 & 7 & 0 & 8 & 0\\\\9 & 0 & 0 & 0 & 10\\end{matrix}\\right]$$"
      ],
      "text/plain": [
       "⎡-1  0  0  1   2 ⎤\n",
       "⎢                ⎥\n",
       "⎢0   0  0  0   0 ⎥\n",
       "⎢                ⎥\n",
       "⎢3   4  0  99  6 ⎥\n",
       "⎢                ⎥\n",
       "⎢0   7  0  8   0 ⎥\n",
       "⎢                ⎥\n",
       "⎣9   0  0  0   10⎦"
      ]
     },
     "metadata": {},
     "output_type": "display_data"
    }
   ],
   "source": [
    "naive_coo[2, 3] = 99\n",
    "\n",
    "naive_coo.display()"
   ]
  },
  {
   "cell_type": "code",
   "execution_count": 18,
   "metadata": {
    "collapsed": false
   },
   "outputs": [
    {
     "data": {
      "image/png": "[encoded data removed]",
      "text/latex": [
       "$$11$$"
      ],
      "text/plain": [
       "11"
      ]
     },
     "execution_count": 18,
     "metadata": {},
     "output_type": "execute_result"
    }
   ],
   "source": [
    "len(naive_coo)"
   ]
  },
  {
   "cell_type": "markdown",
   "metadata": {},
   "source": [
    "So that's a COO matrix. One major downside of this representation is the one mentioned in our giant example in the opening. Depending on how sparse a matrix is, and ours is not very sparse, the COO representation might actually _increase_ the required storage. Let's look at how many values it takes to represent out matrix."
   ]
  },
  {
   "cell_type": "code",
   "execution_count": 19,
   "metadata": {
    "collapsed": false
   },
   "outputs": [
    {
     "data": {
      "image/png": "[encoded data removed]",
      "text/latex": [
       "$$33$$"
      ],
      "text/plain": [
       "33"
      ]
     },
     "execution_count": 19,
     "metadata": {},
     "output_type": "execute_result"
    }
   ],
   "source": [
    "sum(len(t) for t in naive_coo.items)"
   ]
  },
  {
   "cell_type": "markdown",
   "metadata": {},
   "source": [
    "The COO format requires storing 33 numbers to represent 11 nonzero numbers. Storing every value consecutively would only require storing 25 numbers. Different representations take advantage of the structure of the sparsity to minimize storage and optimize operations.\n",
    "\n",
    "---\n",
    "\n",
    "## DOK representation\n",
    "\n",
    "[scipy.sparse.dok_matrix API docs](https://docs.scipy.org/doc/scipy/reference/generated/scipy.sparse.dok_matrix.html) | [wikipedia](https://en.wikipedia.org/wiki/Sparse_matrix#Dictionary_of_keys_.28DOK.29)\n",
    "\n",
    "`DOK` stands for dictionary of keys and it's exactly what it sounds like. Of all the formats discussed in this post, it's by far the simplest to implement using vanilla Python. Like COO, it stores 3 numbers per each non-zero number, but it uses a dictionary where the key is the pair of row and column and the value is the number.\n",
    "\n",
    "All `scipy.sparse` matrix constructors support being supplied a single argument with a dense matrix, so we'll create the same example as the previous using that call signature, and then let's take it apart and see what it's made of."
   ]
  },
  {
   "cell_type": "code",
   "execution_count": 20,
   "metadata": {
    "collapsed": false,
    "scrolled": false
   },
   "outputs": [
    {
     "data": {
      "text/latex": [
       "$$\\left[\\begin{matrix}0 & 0 & 0 & 1 & 2\\\\0 & 0 & 0 & 0 & 0\\\\3 & 4 & 0 & 5 & 6\\\\0 & 7 & 0 & 0 & 8\\\\9 & 0 & 0 & 0 & 10\\end{matrix}\\right]$$"
      ],
      "text/plain": [
       "⎡0  0  0  1  2 ⎤\n",
       "⎢              ⎥\n",
       "⎢0  0  0  0  0 ⎥\n",
       "⎢              ⎥\n",
       "⎢3  4  0  5  6 ⎥\n",
       "⎢              ⎥\n",
       "⎢0  7  0  0  8 ⎥\n",
       "⎢              ⎥\n",
       "⎣9  0  0  0  10⎦"
      ]
     },
     "metadata": {},
     "output_type": "display_data"
    }
   ],
   "source": [
    "mat_dok = sparse.dok_matrix([\n",
    "    [0, 0, 0, 1, 2],\n",
    "    [0, 0, 0, 0, 0],\n",
    "    [3, 4, 0, 5, 6],\n",
    "    [0, 7, 0, 0, 8],\n",
    "    [9, 0, 0, 0, 10]\n",
    "])\n",
    "\n",
    "display_matrix(mat_dok.todense())"
   ]
  },
  {
   "cell_type": "markdown",
   "metadata": {},
   "source": [
    "`sparse_dok` implements `keys()`, `values()` and `items()` just like a vanilla python `dict`."
   ]
  },
  {
   "cell_type": "code",
   "execution_count": 21,
   "metadata": {
    "collapsed": false
   },
   "outputs": [
    {
     "data": {
      "text/plain": [
       "[((3, 1), 7),\n",
       " ((4, 4), 10),\n",
       " ((2, 1), 4),\n",
       " ((2, 0), 3),\n",
       " ((2, 3), 5),\n",
       " ((0, 4), 2),\n",
       " ((0, 3), 1),\n",
       " ((3, 4), 8),\n",
       " ((2, 4), 6),\n",
       " ((4, 0), 9)]"
      ]
     },
     "execution_count": 21,
     "metadata": {},
     "output_type": "execute_result"
    }
   ],
   "source": [
    "list(mat_dok.items())"
   ]
  },
  {
   "cell_type": "markdown",
   "metadata": {},
   "source": [
    "Implementation-wise, it doesn't get simpler. We store the dict, and we use it for iteration, lookup and assignment."
   ]
  },
  {
   "cell_type": "code",
   "execution_count": 22,
   "metadata": {
    "collapsed": false
   },
   "outputs": [
    {
     "data": {
      "text/latex": [
       "$$\\left[\\begin{matrix}0 & 0 & 0 & 1 & 2\\\\0 & 0 & 0 & 0 & 0\\\\3 & 4 & 0 & 5 & 6\\\\0 & 7 & 0 & 0 & 8\\\\9 & 0 & 0 & 0 & 10\\end{matrix}\\right]$$"
      ],
      "text/plain": [
       "⎡0  0  0  1  2 ⎤\n",
       "⎢              ⎥\n",
       "⎢0  0  0  0  0 ⎥\n",
       "⎢              ⎥\n",
       "⎢3  4  0  5  6 ⎥\n",
       "⎢              ⎥\n",
       "⎢0  7  0  0  8 ⎥\n",
       "⎢              ⎥\n",
       "⎣9  0  0  0  10⎦"
      ]
     },
     "metadata": {},
     "output_type": "display_data"
    }
   ],
   "source": [
    "class NaiveDOKMatrix(NaiveSparseMatrix):\n",
    "    \n",
    "    def __init__(self, pairs, **kwargs):\n",
    "        self.data = dict(pairs)\n",
    "        super().__init__(**kwargs)\n",
    "        \n",
    "    def __iter__(self):\n",
    "        for (row, column), value in sorted(self.data.items()):\n",
    "            yield (row, column, value)\n",
    "\n",
    "    def __getitem__(self, coord):\n",
    "        return self.data.get(coord, 0)\n",
    "            \n",
    "    def __setitem__(self, coord, new_value):\n",
    "        self.data[coord] = new_value\n",
    "            \n",
    "    def __len__(self):\n",
    "        return len(self.data)\n",
    "\n",
    "\n",
    "naive_dok = NaiveDOKMatrix(mat_dok.items(), shape=(5, 5))\n",
    "\n",
    "naive_dok.display()"
   ]
  },
  {
   "cell_type": "code",
   "execution_count": 23,
   "metadata": {
    "collapsed": false
   },
   "outputs": [
    {
     "data": {
      "text/plain": [
       "5"
      ]
     },
     "execution_count": 23,
     "metadata": {},
     "output_type": "execute_result"
    }
   ],
   "source": [
    "naive_dok[2, 3]"
   ]
  },
  {
   "cell_type": "code",
   "execution_count": 24,
   "metadata": {
    "collapsed": false
   },
   "outputs": [
    {
     "data": {
      "image/png": "[encoded data removed]",
      "text/latex": [
       "$$0$$"
      ],
      "text/plain": [
       "0"
      ]
     },
     "execution_count": 24,
     "metadata": {},
     "output_type": "execute_result"
    }
   ],
   "source": [
    "naive_dok[0, 0]"
   ]
  },
  {
   "cell_type": "code",
   "execution_count": 25,
   "metadata": {
    "collapsed": false
   },
   "outputs": [
    {
     "data": {
      "text/latex": [
       "$$\\left[\\begin{matrix}11 & 0 & 0 & 1 & 2\\\\0 & 0 & 0 & 0 & 0\\\\3 & 4 & 0 & 5 & 6\\\\0 & 7 & 0 & 0 & 8\\\\9 & 0 & 0 & 0 & 10\\end{matrix}\\right]$$"
      ],
      "text/plain": [
       "⎡11  0  0  1  2 ⎤\n",
       "⎢               ⎥\n",
       "⎢0   0  0  0  0 ⎥\n",
       "⎢               ⎥\n",
       "⎢3   4  0  5  6 ⎥\n",
       "⎢               ⎥\n",
       "⎢0   7  0  0  8 ⎥\n",
       "⎢               ⎥\n",
       "⎣9   0  0  0  10⎦"
      ]
     },
     "metadata": {},
     "output_type": "display_data"
    }
   ],
   "source": [
    "naive_dok[0, 0] = 11\n",
    "\n",
    "naive_dok.display()"
   ]
  },
  {
   "cell_type": "markdown",
   "metadata": {},
   "source": [
    "---\n",
    "\n",
    "## LIL Representation\n",
    "\n",
    "The LIL or list of lists representation is also straightforward to understand and implement. LIL is a row-oriented representation, in which row-based operations are easier to implement and may be less complex to compute.\n",
    "\n",
    "A LIL matrix is constructed from a single array of length $M$ (the number of rows) in which each item is a list of `(column_index, value)` pairs."
   ]
  },
  {
   "cell_type": "code",
   "execution_count": 26,
   "metadata": {
    "collapsed": true
   },
   "outputs": [],
   "source": [
    "class NaiveLILMatrix(NaiveSparseMatrix):\n",
    "    \n",
    "    def __init__(self, items, **kwargs):\n",
    "        self.items = items\n",
    "        super().__init__(**kwargs)\n",
    "        \n",
    "    def __iter__(self):\n",
    "        # It's necessary to enumerate here, because the row index is\n",
    "        # not stored explicitly but rather is the index in items at\n",
    "        # which the pairs of column indexes and values are stored.\n",
    "        for row, row_items in enumerate(self.items):\n",
    "            for column, value in row_items:\n",
    "                yield (row, column, value)\n",
    "\n",
    "    def __getitem__(self, coord):\n",
    "        # To get an item, we look up the column-value pairs at the\n",
    "        # supplied row index, then look for a matching column index.\n",
    "        for column, value in self.items[coord[0]]:\n",
    "            if column == coord[1]:\n",
    "                return value\n",
    "        return 0\n",
    "            \n",
    "    def __setitem__(self, coord, new_value):\n",
    "        # Setting value sis slightly trickier. We enumerate the column\n",
    "        # index, value pairs for the given row, keeping track of the\n",
    "        # current index as we iterate. If a matching column is found,\n",
    "        # we use that index to overwrite. Otherwise, we append the new\n",
    "        # column_index, value pair to the row array.\n",
    "        for index, (column, value) in enumerate(self.items[coord[0]]):\n",
    "            if column == coord[1]:\n",
    "                self.items[coord[0]][index] = (coord[1], new_value)\n",
    "                break\n",
    "        else:\n",
    "            self.items[coord[0]].append((coord[1], new_value))\n",
    "            \n",
    "    def __len__(self):\n",
    "        # The NNZ of the a LIL matrix is the sum of the length of the\n",
    "        # column index, value arrays in each per-row array.\n",
    "        return sum(len(row_items) for row_items in self.items)"
   ]
  },
  {
   "cell_type": "code",
   "execution_count": 27,
   "metadata": {
    "collapsed": false
   },
   "outputs": [
    {
     "data": {
      "text/latex": [
       "$$\\left[\\begin{matrix}0 & 0 & 0 & 1 & 2\\\\0 & 0 & 0 & 0 & 0\\\\3 & 4 & 0 & 4 & 6\\\\0 & 7 & 0 & 8 & 0\\\\9 & 0 & 0 & 0 & 10\\end{matrix}\\right]$$"
      ],
      "text/plain": [
       "⎡0  0  0  1  2 ⎤\n",
       "⎢              ⎥\n",
       "⎢0  0  0  0  0 ⎥\n",
       "⎢              ⎥\n",
       "⎢3  4  0  4  6 ⎥\n",
       "⎢              ⎥\n",
       "⎢0  7  0  8  0 ⎥\n",
       "⎢              ⎥\n",
       "⎣9  0  0  0  10⎦"
      ]
     },
     "metadata": {},
     "output_type": "display_data"
    }
   ],
   "source": [
    "items = [\n",
    "    [(3, 1), (4, 2)],\n",
    "    [],\n",
    "    [(0, 3), (1, 4), (3, 4), (4, 6)],\n",
    "    [(1, 7), (3, 8)],\n",
    "    [(0, 9), (4, 10)]\n",
    "]\n",
    "naive_lil = NaiveLILMatrix(items, shape=(5, 5))\n",
    "\n",
    "naive_lil.display()"
   ]
  },
  {
   "cell_type": "markdown",
   "metadata": {},
   "source": [
    "---\n",
    "\n",
    "## CSR representation\n",
    "\n",
    "[scipy.sparse.csr_matrix API docs](https://docs.scipy.org/doc/scipy/reference/generated/scipy.sparse.csr_matrix.html)  | [wikipedia](https://en.wikipedia.org/wiki/Sparse_matrix#Compressed_sparse_row_.28CSR.2C_CRS_or_Yale_format.29)\n",
    "\n",
    "CSR stands for _compressed sparse row_ and is good for implementing fast arithmetic operations as well as slicing by row. It's more complicated than the previous examples and it can be used to take better advantage of the sparse structure."
   ]
  },
  {
   "cell_type": "code",
   "execution_count": 28,
   "metadata": {
    "collapsed": false
   },
   "outputs": [
    {
     "data": {
      "text/latex": [
       "$$\\left[\\begin{matrix}0 & 0 & 0 & 1 & 2\\\\0 & 0 & 0 & 0 & 0\\\\3 & 4 & 0 & 5 & 6\\\\0 & 7 & 0 & 8 & 0\\\\9 & 0 & 0 & 0 & 10\\end{matrix}\\right]$$"
      ],
      "text/plain": [
       "⎡0  0  0  1  2 ⎤\n",
       "⎢              ⎥\n",
       "⎢0  0  0  0  0 ⎥\n",
       "⎢              ⎥\n",
       "⎢3  4  0  5  6 ⎥\n",
       "⎢              ⎥\n",
       "⎢0  7  0  8  0 ⎥\n",
       "⎢              ⎥\n",
       "⎣9  0  0  0  10⎦"
      ]
     },
     "metadata": {},
     "output_type": "display_data"
    }
   ],
   "source": [
    "mat_csr = sparse.csr_matrix((data, (rows, cols)), (5, 5))\n",
    "display_matrix(mat_csr.todense())"
   ]
  },
  {
   "cell_type": "markdown",
   "metadata": {},
   "source": [
    "Now let's take it apart to see what's inside."
   ]
  },
  {
   "cell_type": "code",
   "execution_count": 29,
   "metadata": {
    "collapsed": false
   },
   "outputs": [
    {
     "data": {
      "text/plain": [
       "(array([ 1,  2,  3,  4,  5,  6,  7,  8,  9, 10], dtype=int64),\n",
       " array([ 0,  2,  2,  6,  8, 10], dtype=int32),\n",
       " array([3, 4, 0, 1, 3, 4, 1, 3, 0, 4], dtype=int32))"
      ]
     },
     "execution_count": 29,
     "metadata": {},
     "output_type": "execute_result"
    }
   ],
   "source": [
    "mat_csr.data, mat_csr.indptr, mat_csr.indices"
   ]
  },
  {
   "cell_type": "markdown",
   "metadata": {},
   "source": [
    "It's clear enough that `data` is the nonzero values in \"row-major\" order, which is to say, left to right then top to bottom, much like how English text is read. It's less clear, though, what the other arrays are.\n",
    "\n",
    "The second array is nondecreasing — each value is equal to or greater than the previous. Its first value is $0$ and its last is $10$. It's hard to say what that might be, because we provided 10 input values in the range $[0, 10)$.\n",
    "\n",
    "Let's double our nonzero values to make it more clear what's going on here."
   ]
  },
  {
   "cell_type": "code",
   "execution_count": 30,
   "metadata": {
    "collapsed": false
   },
   "outputs": [
    {
     "data": {
      "text/latex": [
       "$$\\left[\\begin{matrix}0 & 0 & 0 & 2 & 4\\\\0 & 0 & 0 & 0 & 0\\\\6 & 8 & 0 & 10 & 12\\\\0 & 14 & 0 & 16 & 0\\\\18 & 0 & 0 & 0 & 20\\end{matrix}\\right]$$"
      ],
      "text/plain": [
       "⎡0   0   0  2   4 ⎤\n",
       "⎢                 ⎥\n",
       "⎢0   0   0  0   0 ⎥\n",
       "⎢                 ⎥\n",
       "⎢6   8   0  10  12⎥\n",
       "⎢                 ⎥\n",
       "⎢0   14  0  16  0 ⎥\n",
       "⎢                 ⎥\n",
       "⎣18  0   0  0   20⎦"
      ]
     },
     "metadata": {},
     "output_type": "display_data"
    }
   ],
   "source": [
    "doubled_data = [n * 2 for n in data]\n",
    "mat_csr = sparse.csr_matrix((doubled_data, (rows, cols)), (5, 5))\n",
    "display_matrix(mat_csr.todense())"
   ]
  },
  {
   "cell_type": "code",
   "execution_count": 31,
   "metadata": {
    "collapsed": false
   },
   "outputs": [
    {
     "data": {
      "text/plain": [
       "(array([ 2,  4,  6,  8, 10, 12, 14, 16, 18, 20], dtype=int64),\n",
       " array([ 0,  2,  2,  6,  8, 10], dtype=int32),\n",
       " array([3, 4, 0, 1, 3, 4, 1, 3, 0, 4], dtype=int32))"
      ]
     },
     "execution_count": 31,
     "metadata": {},
     "output_type": "execute_result"
    }
   ],
   "source": [
    "mat_csr.data, mat_csr.indptr, mat_csr.indices"
   ]
  },
  {
   "cell_type": "markdown",
   "metadata": {},
   "source": [
    "The data in the first array doubles and everything else stays the same. We can reasonably conclude that the second array doesn't hold the nonzero data but describes its position in the matrix.\n",
    "\n",
    "Things become much more obvious when we look at `indptr` in pairs."
   ]
  },
  {
   "cell_type": "code",
   "execution_count": 32,
   "metadata": {
    "collapsed": false
   },
   "outputs": [
    {
     "data": {
      "text/plain": [
       "[(0, 2), (2, 2), (2, 6), (6, 8), (8, 10)]"
      ]
     },
     "execution_count": 32,
     "metadata": {},
     "output_type": "execute_result"
    }
   ],
   "source": [
    "pointer_ranges = list(zip(\n",
    "    mat_csr.indptr,\n",
    "    mat_csr.indptr[1:]))\n",
    "\n",
    "pointer_ranges"
   ]
  },
  {
   "cell_type": "code",
   "execution_count": 33,
   "metadata": {
    "collapsed": false
   },
   "outputs": [
    {
     "data": {
      "text/plain": [
       "[2, 0, 4, 2, 2]"
      ]
     },
     "execution_count": 33,
     "metadata": {},
     "output_type": "execute_result"
    }
   ],
   "source": [
    "[j - i for i, j in pointer_ranges]"
   ]
  },
  {
   "cell_type": "markdown",
   "metadata": {},
   "source": [
    "When we subtract the latter value from the former value, we get the number of nonzero values in each row. And this is the key to how the CSR representation works. `indptr` has pointers to the two other arrays, describing successively where the data for each row starts and begins.  The numbers in `data` are, as already figured out, the nonzero numbers in the matrix. The numbers in `indices` are the column indexes at which those corresponding nonzero numbers belong.\n",
    "\n",
    "Equipped with this knowledge, we can access the values and the column indices by row."
   ]
  },
  {
   "cell_type": "code",
   "execution_count": 34,
   "metadata": {
    "collapsed": false
   },
   "outputs": [
    {
     "data": {
      "text/plain": [
       "[array([2, 4], dtype=int64),\n",
       " array([], dtype=int64),\n",
       " array([ 6,  8, 10, 12], dtype=int64),\n",
       " array([14, 16], dtype=int64),\n",
       " array([18, 20], dtype=int64)]"
      ]
     },
     "execution_count": 34,
     "metadata": {},
     "output_type": "execute_result"
    }
   ],
   "source": [
    "values_by_row = [mat_csr.data[i:j] for i, j in pointer_ranges]\n",
    "\n",
    "values_by_row"
   ]
  },
  {
   "cell_type": "code",
   "execution_count": 35,
   "metadata": {
    "collapsed": false
   },
   "outputs": [
    {
     "data": {
      "text/plain": [
       "[array([3, 4], dtype=int32),\n",
       " array([], dtype=int32),\n",
       " array([0, 1, 3, 4], dtype=int32),\n",
       " array([1, 3], dtype=int32),\n",
       " array([0, 4], dtype=int32)]"
      ]
     },
     "execution_count": 35,
     "metadata": {},
     "output_type": "execute_result"
    }
   ],
   "source": [
    "row_indices_by_row = [mat_csr.indices[i:j] for i, j in pointer_ranges]\n",
    "\n",
    "row_indices_by_row"
   ]
  },
  {
   "cell_type": "markdown",
   "metadata": {},
   "source": [
    "Now we know enough to write our own naive implementation. Like last time, we're going to change things from the way scipy works for sake of clarity."
   ]
  },
  {
   "cell_type": "code",
   "execution_count": 36,
   "metadata": {
    "collapsed": false
   },
   "outputs": [
    {
     "data": {
      "text/latex": [
       "$$\\left[\\begin{matrix}0 & 0 & 0 & 1 & 2\\\\0 & 0 & 0 & 0 & 0\\\\3 & 4 & 0 & 5 & 6\\\\0 & 7 & 0 & 8 & 0\\\\9 & 0 & 0 & 0 & 10\\end{matrix}\\right]$$"
      ],
      "text/plain": [
       "⎡0  0  0  1  2 ⎤\n",
       "⎢              ⎥\n",
       "⎢0  0  0  0  0 ⎥\n",
       "⎢              ⎥\n",
       "⎢3  4  0  5  6 ⎥\n",
       "⎢              ⎥\n",
       "⎢0  7  0  8  0 ⎥\n",
       "⎢              ⎥\n",
       "⎣9  0  0  0  10⎦"
      ]
     },
     "metadata": {},
     "output_type": "display_data"
    }
   ],
   "source": [
    "class NaiveCSRMatrix(NaiveSparseMatrix):\n",
    "    \n",
    "    def __init__(self, values, row_extents, column_indices, **kwargs):\n",
    "        # Accept the canonical representation of values, row_extents\n",
    "        # and column_indices.\n",
    "        self.values = values\n",
    "        self.row_extents = row_extents\n",
    "        self.column_indices = column_indices\n",
    "        super().__init__(**kwargs)\n",
    "        \n",
    "    def __iter__(self):\n",
    "        # Take the row_extents and zip them pairwise to get the index\n",
    "        # ranges for each row, and use those to slice the values and the\n",
    "        # column indices.\n",
    "        pointer_ranges = zip(\n",
    "            self.row_extents,\n",
    "            self.row_extents[1:])\n",
    "        # Since pointer_ranges is naturally M+1, or one greater than the\n",
    "        # number of rows, our pairwise ranges correspond directly to the\n",
    "        # row indices, and so we can iterate them with enumerate to keep\n",
    "        # track of the row index.\n",
    "        for row, (row_start, row_end) in enumerate(pointer_ranges):\n",
    "            values = self.values[row_start:row_end]\n",
    "            columns = self.column_indices[row_start:row_end]\n",
    "            for value, column in zip(values, columns):\n",
    "                yield row, column, value\n",
    "\n",
    "    def __getitem__(self, coord):\n",
    "        # To get items by their indices, we take the supplied row index\n",
    "        # to look up the indices for values in that row.\n",
    "        row, column = coord\n",
    "        row_start = self.row_extents[row]\n",
    "        row_end = self.row_extents[row + 1]\n",
    "        \n",
    "        # Then we look for the supplied column index in the column_indices\n",
    "        # array, starting where the row starts and ending where the row ends.\n",
    "        try:\n",
    "            index = self.column_indices.index(column, row_start, row_end)\n",
    "        except ValueError:\n",
    "            return 0\n",
    "        \n",
    "        # Now we have the index of the column_indices where the column is;\n",
    "        # that corresponds to the index in values where the value is.\n",
    "        return self.values[index]\n",
    "            \n",
    "    def __setitem__(self, coord, new_value):\n",
    "        # Setting an item is similar to getting it. We slice the column_indices\n",
    "        # into the ones belonging to the supplied row, then we check to see if\n",
    "        # the supplied column index is in that slice. If so, we look up the index\n",
    "        # as above and then overwrite it. If not, we insert the value at the end\n",
    "        # of the row, we insert the column index at the end of the row, and we \n",
    "        # increment all the row indices afterward.\n",
    "        row, column = coord\n",
    "        row_start = self.row_extents[row]\n",
    "        row_end = self.row_extents[row + 1]\n",
    "        column_indices = self.column_indices[row_start:row_end]\n",
    "        if column in column_indices:\n",
    "            index = self.column_indices.index(column, row_start, row_end)\n",
    "            self.values[index] = new_value\n",
    "        else:\n",
    "            self.values.insert(row_end, new_value)\n",
    "            self.column_indices.insert(row_end, column)\n",
    "            for row_index in range(row + 1, self.shape[0] + 1):\n",
    "                self.row_extents[row_index] += 1\n",
    "            \n",
    "    def __len__(self):\n",
    "        # Counting nonzero values remains simple.\n",
    "        return len(self.values)\n",
    "\n",
    "\n",
    "values = [1, 2, 3, 4, 5, 6, 7, 8, 9, 10]\n",
    "row_extents = [0, 2, 2, 6, 8, 10]\n",
    "column_indices = [3, 4, 0, 1, 3, 4, 1, 3, 0, 4]\n",
    "\n",
    "mat_csr = NaiveCSRMatrix(\n",
    "    values, row_extents, column_indices,\n",
    "    shape=(5, 5))\n",
    "\n",
    "mat_csr.display()"
   ]
  },
  {
   "cell_type": "code",
   "execution_count": 37,
   "metadata": {
    "collapsed": false
   },
   "outputs": [
    {
     "data": {
      "image/png": "[encoded data removed]",
      "text/latex": [
       "$$5$$"
      ],
      "text/plain": [
       "5"
      ]
     },
     "execution_count": 37,
     "metadata": {},
     "output_type": "execute_result"
    }
   ],
   "source": [
    "mat_csr[2, 3]"
   ]
  },
  {
   "cell_type": "code",
   "execution_count": 38,
   "metadata": {
    "collapsed": false
   },
   "outputs": [
    {
     "data": {
      "image/png": "[encoded data removed]",
      "text/latex": [
       "$$0$$"
      ],
      "text/plain": [
       "0"
      ]
     },
     "execution_count": 38,
     "metadata": {},
     "output_type": "execute_result"
    }
   ],
   "source": [
    "mat_csr[1, 0]"
   ]
  },
  {
   "cell_type": "code",
   "execution_count": 39,
   "metadata": {
    "collapsed": false
   },
   "outputs": [
    {
     "data": {
      "text/latex": [
       "$$\\left[\\begin{matrix}0 & 0 & 0 & 1 & 2\\\\0 & 0 & 0 & 0 & 0\\\\3 & 4 & 0 & 5 & 6\\\\0 & 7 & 0 & 8 & 11\\\\9 & 0 & 0 & 0 & 10\\end{matrix}\\right]$$"
      ],
      "text/plain": [
       "⎡0  0  0  1  2 ⎤\n",
       "⎢              ⎥\n",
       "⎢0  0  0  0  0 ⎥\n",
       "⎢              ⎥\n",
       "⎢3  4  0  5  6 ⎥\n",
       "⎢              ⎥\n",
       "⎢0  7  0  8  11⎥\n",
       "⎢              ⎥\n",
       "⎣9  0  0  0  10⎦"
      ]
     },
     "metadata": {},
     "output_type": "display_data"
    }
   ],
   "source": [
    "mat_csr[3, 4] = 11\n",
    "\n",
    "mat_csr.display()"
   ]
  },
  {
   "cell_type": "code",
   "execution_count": 40,
   "metadata": {
    "collapsed": false
   },
   "outputs": [
    {
     "data": {
      "image/png": "[encoded data removed]",
      "text/latex": [
       "$$11$$"
      ],
      "text/plain": [
       "11"
      ]
     },
     "execution_count": 40,
     "metadata": {},
     "output_type": "execute_result"
    }
   ],
   "source": [
    "len(mat_csr)"
   ]
  },
  {
   "cell_type": "markdown",
   "metadata": {},
   "source": [
    "CSR is a row-oriented format which makes certain row-wise operations simpler to implement and less computationally complex to execute. If we wanted to get the nonzero values and their respective column indices for each row, we could do so easily."
   ]
  },
  {
   "cell_type": "code",
   "execution_count": 41,
   "metadata": {
    "collapsed": false
   },
   "outputs": [
    {
     "data": {
      "image/png": "[encoded data removed]",
      "text/latex": [
       "$$\\left [ \\left [ \\left ( 3, \\quad 1\\right ), \\quad \\left ( 4, \\quad 2\\right )\\right ], \\quad \\left [ \\right ], \\quad \\left [ \\left ( 0, \\quad 3\\right ), \\quad \\left ( 1, \\quad 4\\right ), \\quad \\left ( 3, \\quad 5\\right ), \\quad \\left ( 4, \\quad 6\\right )\\right ], \\quad \\left [ \\left ( 1, \\quad 7\\right ), \\quad \\left ( 3, \\quad 8\\right ), \\quad \\left ( 4, \\quad 11\\right )\\right ], \\quad \\left [ \\left ( 0, \\quad 9\\right ), \\quad \\left ( 4, \\quad 10\\right )\\right ]\\right ]$$"
      ],
      "text/plain": [
       "[[(3, 1), (4, 2)], [], [(0, 3), (1, 4), (3, 5), (4, 6)], [(1, 7), (3, 8), (4, \n",
       "11)], [(0, 9), (4, 10)]]"
      ]
     },
     "execution_count": 41,
     "metadata": {},
     "output_type": "execute_result"
    }
   ],
   "source": [
    "def csr_to_row_values(mat_csr):\n",
    "    row_ranges = zip(mat_csr.row_extents, mat_csr.row_extents[1:])\n",
    "    return [\n",
    "        list(zip(\n",
    "            mat_csr.column_indices[start:end],\n",
    "            mat_csr.values[start:end]))\n",
    "        for start, end in row_ranges\n",
    "    ]\n",
    "\n",
    "csr_to_row_values(mat_csr)"
   ]
  },
  {
   "cell_type": "markdown",
   "metadata": {},
   "source": [
    "Getting the nonzero values for each column from a CSR-represented matrix is significantly more difficult. In the implementation below, the row_extent pairs are used to create pairs of column indices and values for each row. In order to ensure that missing column show up in the result as empty arrays, we flat map those pairs into a single list, group by the column index, create a dictionary from those groups, and use that to look up the values per column."
   ]
  },
  {
   "cell_type": "code",
   "execution_count": 42,
   "metadata": {
    "collapsed": false
   },
   "outputs": [
    {
     "data": {
      "image/png": "[encoded data removed]",
      "text/latex": [
       "$$\\left [ \\left [ 3, \\quad 9\\right ], \\quad \\left [ 4, \\quad 7\\right ], \\quad \\left [ \\right ], \\quad \\left [ 1, \\quad 5, \\quad 8\\right ], \\quad \\left [ 2, \\quad 6, \\quad 11, \\quad 10\\right ]\\right ]$$"
      ],
      "text/plain": [
       "[[3, 9], [4, 7], [], [1, 5, 8], [2, 6, 11, 10]]"
      ]
     },
     "execution_count": 42,
     "metadata": {},
     "output_type": "execute_result"
    }
   ],
   "source": [
    "import itertools\n",
    "\n",
    "def csr_to_column_values(mat_csr):\n",
    "    row_ranges = zip(mat_csr.row_extents, mat_csr.row_extents[1:])\n",
    "    indices_values = [\n",
    "        pair for start, end in row_ranges\n",
    "        for pair in zip(\n",
    "            mat_csr.column_indices[start:end],\n",
    "            mat_csr.values[start:end])\n",
    "    ]\n",
    "    \n",
    "    column_key = lambda pair: pair[0]\n",
    "    column_value_dict = {\n",
    "        column: [value for _, value in group]\n",
    "        for column, group in itertools.groupby(\n",
    "            sorted(indices_values, key=column_key), column_key)\n",
    "    }\n",
    "    return [\n",
    "        column_value_dict.get(column_index, [])\n",
    "        for column_index in range(0, mat_csr.shape[1])\n",
    "    ]\n",
    "    \n",
    "\n",
    "csr_to_column_values(mat_csr)"
   ]
  },
  {
   "cell_type": "markdown",
   "metadata": {},
   "source": [
    "---\n",
    "\n",
    "## CSC representation\n",
    "\n",
    "[scipy.sparse.csc_matrix API docs](https://docs.scipy.org/doc/scipy/reference/generated/scipy.sparse.csc_matrix.html#scipy.sparse.csc_matrix) | \n",
    "[wikipedia](https://en.wikipedia.org/wiki/Sparse_matrix#Compressed_sparse_column_.28CSC_or_CCS.29)\n",
    "\n",
    "CSC stands for 'compressed sparse column', and as you might expect, it's the sister format to CSR, except the pointer array holds the extents of the columns.\n",
    "\n",
    "We'll make this using the signature that allows us to supply a dense matrix, which we'll make by calling the `to_dense()` method we defined on all these naive matrix objects."
   ]
  },
  {
   "cell_type": "code",
   "execution_count": 43,
   "metadata": {
    "collapsed": false
   },
   "outputs": [
    {
     "data": {
      "text/plain": [
       "<5x5 sparse matrix of type '<class 'numpy.int64'>'\n",
       "\twith 11 stored elements in Compressed Sparse Column format>"
      ]
     },
     "execution_count": 43,
     "metadata": {},
     "output_type": "execute_result"
    }
   ],
   "source": [
    "mat_csc = sparse.csc_matrix(mat_csr.to_dense(), shape=(5, 5))\n",
    "mat_csc"
   ]
  },
  {
   "cell_type": "markdown",
   "metadata": {},
   "source": [
    "`scipy.sparse.csc_matrix` uses the same naming convention for its canonical representation as does `csr_matrix`. We can see that our data, which was mostly in row-major order (save for that stray 11 we assigned post-construction), is no longer mostly-ordered in its representation because it's column-major ordered now."
   ]
  },
  {
   "cell_type": "code",
   "execution_count": 44,
   "metadata": {
    "collapsed": false
   },
   "outputs": [
    {
     "data": {
      "text/plain": [
       "(array([ 3,  9,  4,  7,  1,  5,  8,  2,  6, 11, 10], dtype=int64),\n",
       " array([ 0,  2,  4,  4,  7, 11], dtype=int32),\n",
       " array([2, 4, 2, 3, 0, 2, 3, 0, 2, 3, 4], dtype=int32))"
      ]
     },
     "execution_count": 44,
     "metadata": {},
     "output_type": "execute_result"
    }
   ],
   "source": [
    "mat_csc.data, mat_csc.indptr, mat_csc.indices"
   ]
  },
  {
   "cell_type": "markdown",
   "metadata": {},
   "source": [
    "Creating a `NaiveSparseCSC` class is largely a matter of swapping `column` and `row` in various places in our `NaiveSparseCSR` class. The same goes for writing column and row slicing functionality. The implementation is left as an exercise to the reader, or at least to the reader's imagination."
   ]
  },
  {
   "cell_type": "markdown",
   "metadata": {},
   "source": [
    "---\n",
    "\n",
    "## BSR representation\n",
    "\n",
    "[scipy.sparse.bsr_matrix API docs](https://docs.scipy.org/doc/scipy/reference/generated/scipy.sparse.bsr_matrix.html)\n",
    "\n",
    "BSR stands for 'block sparse row' and it is also related to CSR."
   ]
  },
  {
   "cell_type": "code",
   "execution_count": 45,
   "metadata": {
    "collapsed": false
   },
   "outputs": [
    {
     "data": {
      "text/plain": [
       "matrix([[ 0,  0,  0,  1,  2],\n",
       "        [ 0,  0,  0,  0,  0],\n",
       "        [ 3,  4,  0,  5,  6],\n",
       "        [ 0,  7,  0,  8,  0],\n",
       "        [ 9,  0,  0,  0, 10]], dtype=int64)"
      ]
     },
     "execution_count": 45,
     "metadata": {},
     "output_type": "execute_result"
    }
   ],
   "source": [
    "mat_bsr = sparse.bsr_matrix((data, (rows, cols)), (5, 5))\n",
    "mat_bsr.todense()"
   ]
  },
  {
   "cell_type": "code",
   "execution_count": 46,
   "metadata": {
    "collapsed": false,
    "scrolled": true
   },
   "outputs": [
    {
     "data": {
      "text/plain": [
       "(array([[[ 1]],\n",
       " \n",
       "        [[ 2]],\n",
       " \n",
       "        [[ 3]],\n",
       " \n",
       "        [[ 4]],\n",
       " \n",
       "        [[ 5]],\n",
       " \n",
       "        [[ 6]],\n",
       " \n",
       "        [[ 7]],\n",
       " \n",
       "        [[ 8]],\n",
       " \n",
       "        [[ 9]],\n",
       " \n",
       "        [[10]]], dtype=int64),\n",
       " array([ 0,  2,  2,  6,  8, 10], dtype=int32),\n",
       " array([3, 4, 0, 1, 3, 4, 1, 3, 0, 4], dtype=int32))"
      ]
     },
     "execution_count": 46,
     "metadata": {},
     "output_type": "execute_result"
    }
   ],
   "source": [
    "mat_bsr.data, mat_bsr.indptr, mat_bsr.indices"
   ]
  },
  {
   "cell_type": "markdown",
   "metadata": {},
   "source": [
    "We're running into the limitations of our small contrived example, so let's borrow this example from the `scipy` docs."
   ]
  },
  {
   "cell_type": "code",
   "execution_count": 47,
   "metadata": {
    "collapsed": false
   },
   "outputs": [
    {
     "data": {
      "text/latex": [
       "$$\\left[\\begin{matrix}1 & 1 & 0 & 0 & 2 & 2\\\\1 & 1 & 0 & 0 & 2 & 2\\\\0 & 0 & 0 & 0 & 3 & 3\\\\0 & 0 & 0 & 0 & 3 & 3\\\\4 & 4 & 5 & 5 & 6 & 6\\\\4 & 4 & 5 & 5 & 6 & 6\\end{matrix}\\right]$$"
      ],
      "text/plain": [
       "⎡1  1  0  0  2  2⎤\n",
       "⎢                ⎥\n",
       "⎢1  1  0  0  2  2⎥\n",
       "⎢                ⎥\n",
       "⎢0  0  0  0  3  3⎥\n",
       "⎢                ⎥\n",
       "⎢0  0  0  0  3  3⎥\n",
       "⎢                ⎥\n",
       "⎢4  4  5  5  6  6⎥\n",
       "⎢                ⎥\n",
       "⎣4  4  5  5  6  6⎦"
      ]
     },
     "metadata": {},
     "output_type": "display_data"
    }
   ],
   "source": [
    "indptr = np.array([0, 2, 3, 6])\n",
    "indices = np.array([0, 2, 2, 0, 1, 2])\n",
    "data = np.array([1, 2, 3, 4, 5, 6]).repeat(4).reshape(6, 2, 2)\n",
    "mat_bsr = sparse.bsr_matrix((data,indices,indptr), shape=(6, 6))\n",
    "\n",
    "display_matrix(mat_bsr.todense())"
   ]
  },
  {
   "cell_type": "markdown",
   "metadata": {
    "collapsed": false
   },
   "source": [
    "Like the name implies, BSR format represents a sparse matrix as a dense array of dense blocks.\n",
    "\n",
    "Here, `scipy` infers the blocksize from the data we provide. Let's look at that data again."
   ]
  },
  {
   "cell_type": "code",
   "execution_count": 48,
   "metadata": {
    "collapsed": false
   },
   "outputs": [
    {
     "data": {
      "text/plain": [
       "array([[[1, 1],\n",
       "        [1, 1]],\n",
       "\n",
       "       [[2, 2],\n",
       "        [2, 2]],\n",
       "\n",
       "       [[3, 3],\n",
       "        [3, 3]],\n",
       "\n",
       "       [[4, 4],\n",
       "        [4, 4]],\n",
       "\n",
       "       [[5, 5],\n",
       "        [5, 5]],\n",
       "\n",
       "       [[6, 6],\n",
       "        [6, 6]]])"
      ]
     },
     "execution_count": 48,
     "metadata": {},
     "output_type": "execute_result"
    }
   ],
   "source": [
    "data"
   ]
  },
  {
   "cell_type": "markdown",
   "metadata": {},
   "source": [
    "`data` is an array in which every value is a $2 \\times 2$ array—effectively, a little matrix. BSR requires that this block size divides the matrix's dimensions evenly, which allows the other indices to be relative to that block size. So our $6 \\times 6$ matrix is indexable as a $3 \\times 3$ matrix in which the items are not individual values but block matrices themselves. Once we make that jump in indexability, most of the rest is CSR-like."
   ]
  },
  {
   "cell_type": "code",
   "execution_count": 49,
   "metadata": {
    "collapsed": false,
    "scrolled": true
   },
   "outputs": [
    {
     "data": {
      "text/latex": [
       "$$\\left[\\begin{matrix}1 & 2 & 0 & 0 & 5 & 6\\\\3 & 4 & 0 & 0 & 7 & 8\\\\0 & 0 & 0 & 0 & 9 & 10\\\\0 & 0 & 0 & 0 & 11 & 12\\\\13 & 14 & 17 & 18 & 21 & 22\\\\15 & 16 & 19 & 20 & 23 & 24\\end{matrix}\\right]$$"
      ],
      "text/plain": [
       "⎡1   2   0   0   5   6 ⎤\n",
       "⎢                      ⎥\n",
       "⎢3   4   0   0   7   8 ⎥\n",
       "⎢                      ⎥\n",
       "⎢0   0   0   0   9   10⎥\n",
       "⎢                      ⎥\n",
       "⎢0   0   0   0   11  12⎥\n",
       "⎢                      ⎥\n",
       "⎢13  14  17  18  21  22⎥\n",
       "⎢                      ⎥\n",
       "⎣15  16  19  20  23  24⎦"
      ]
     },
     "metadata": {},
     "output_type": "display_data"
    }
   ],
   "source": [
    "class NaiveBSRMatrix(NaiveSparseMatrix):\n",
    "    \n",
    "    def __init__(self, blocks, row_extents, column_indices, **kwargs):\n",
    "        # Accept the canonical representation of values, row_extents\n",
    "        # and column_indices.\n",
    "        self.blocks = blocks\n",
    "        # Assume that all blocks are the same size and the block size\n",
    "        # divides the matrix evenly.\n",
    "        self.block_size = (len(blocks[0]), len(blocks[0][0]))\n",
    "        self.row_extents = row_extents\n",
    "        self.column_indices = column_indices\n",
    "        super().__init__(**kwargs)\n",
    "        \n",
    "    def _scale_column(self, column_index, offset=0):\n",
    "        # Take a column block index and an offset within that block and \n",
    "        # return an absolute column index.\n",
    "        return column_index * self.block_size[1] + offset\n",
    "    \n",
    "    def _scale_coord(self, coord, offset=(0, 0)):\n",
    "        # Take a block coordinate and an offset within that block and \n",
    "        # return an absolute coordinate.\n",
    "        return (\n",
    "            self._scale_row(coord[0], offset[0]),\n",
    "            self._scale_column(coord[1], offset[1])\n",
    "        )\n",
    "    \n",
    "    def _scale_row(self, row_index, offset=0):\n",
    "        # Take a row block index and an offset within that block and \n",
    "        # return an absolute row index.\n",
    "        return row_index * self.block_size[0] + offset\n",
    "    \n",
    "    def _unscale_column(self, column_index):\n",
    "        # Take an absolute column index and return the column index of\n",
    "        # that block and the relative column index within that block.\n",
    "        return (\n",
    "            column_index // self.block_size[1],\n",
    "            column_index % self.block_size[1]\n",
    "        )\n",
    "    \n",
    "    def _unscale_coord(self, coord):\n",
    "        # Take an absolute coordinate and return the coordinate of\n",
    "        # that block and the relative coordinate within that block.\n",
    "        row, row_offset = self._unscale_row(coord[0])\n",
    "        column, column_offset = self._unscale_column(coord[1])\n",
    "        return (row, column), (row_offset, column_offset)\n",
    "    \n",
    "    def _unscale_row(self, row_index):\n",
    "        # Take an absolute row index and return the row index of\n",
    "        # that block and the relative row index within that block.\n",
    "        return (\n",
    "            row_index // self.block_size[0],\n",
    "            row_index % self.block_size[0]\n",
    "        )\n",
    "        \n",
    "    def __iter__(self):\n",
    "        # Zip the row extents pairwise to get the index ranges for\n",
    "        # each block row.\n",
    "        pointer_ranges = zip(\n",
    "            self.row_extents, self.row_extents[1:])\n",
    "\n",
    "        for row_index, (start, end) in enumerate(pointer_ranges):\n",
    "            blocks = self.blocks[start:end]\n",
    "            column_indices = self.column_indices[start:end]\n",
    "            # By zipping the blocks with themselves, we transpose the blocks\n",
    "            # that belong to the same rows, thereby making a list that is as long\n",
    "            # as the height of the block size, in which item is a tuple with the\n",
    "            # same length as the number of blocks in a row, containing the lists\n",
    "            # for that row of that block.\n",
    "            # So [\n",
    "            #     [1, 2, 0, 0, 5, 6],\n",
    "            #     [3, 4, 0, 0, 7, 8],\n",
    "            #     ...\n",
    "            # ]\n",
    "            #\n",
    "            # which is represented as\n",
    "            # [\n",
    "            #     [[1, 2], [3, 4]],\n",
    "            #     [[5, 6], [7, 8]]\n",
    "            # ]\n",
    "            #\n",
    "            # becomes [[[1, 2], [5, 6]], [[3, 4], [7, 8]].\n",
    "            #\n",
    "            # By enumerating these rows with indices, we keep track of the\n",
    "            # row offset within the block.\n",
    "            for row_offset, row_block in enumerate(zip(*blocks)):\n",
    "                # By zipping together those transposed row blocks with the column\n",
    "                # indices for this block, we get lists of block rows, per blocks,\n",
    "                # with their column indices alongside.\n",
    "                # So [[[1, 2], [5, 6]], [[3, 4], [7, 8]]\n",
    "                # \n",
    "                # becomes [[0, [[1, 2], [5, 6]]], [2, [[3, 4], [7, 8]]]]\n",
    "                for column_index, block in zip(column_indices, row_block):\n",
    "                    # As we enumerate the values inside those blocks above, we can keep track\n",
    "                    # of the column offset within the bock. Now we have the value, the row offset,\n",
    "                    # the column offset, and the block coordinate, and can use all of these\n",
    "                    # to generate the tuple of absolute row, column and value.\n",
    "                    for column_offset, value in enumerate(block):\n",
    "                        yield (\n",
    "                            self._scale_row(row_index, row_offset),\n",
    "                            self._scale_column(column_index, column_offset),\n",
    "                            value\n",
    "                        )\n",
    "\n",
    "    def __getitem__(self, coord):\n",
    "        # Getting works a lot like it does for the CSR representation with\n",
    "        # the addition of a coordinate transformation.\n",
    "        #\n",
    "        # First, \"unscale\" the absolute coordinate to get block-relative\n",
    "        # indexes and offsets.\n",
    "        (row, column), (row_offset, column_offset) = self._unscale_coord(coord)\n",
    "\n",
    "        # From here, the logic is nearly identical to the CSR representation.\n",
    "        row_start = self.row_extents[row]\n",
    "        row_end = self.row_extents[row + 1]\n",
    "\n",
    "        try:\n",
    "            index = self.column_indices.index(column, row_start, row_end)\n",
    "        except ValueError:\n",
    "            return 0\n",
    "        \n",
    "        # The index that we have is the index in the blocks array where our\n",
    "        # block is. The positions of the value inside that block is just\n",
    "        # the row and column offset we got by unscaling the input coordinate.\n",
    "        return self.blocks[index][row_offset][column_offset]\n",
    "            \n",
    "    def __setitem__(self, coord, new_value):\n",
    "        # Setting an existing value is quite similar to CSR.\n",
    "        (row, column), (row_offset, column_offset) = self._unscale_coord(coord)\n",
    "\n",
    "        row_start = self.row_extents[row]\n",
    "        row_end = self.row_extents[row + 1]\n",
    "        column_indices = self.column_indices[row_start:row_end]\n",
    "        if column in column_indices:\n",
    "            index = self.column_indices.index(column, row_start, row_end)\n",
    "            # We want to set just one value within the block, and the input\n",
    "            # coordinate dictates where within that block once we find the \n",
    "            # block to change.\n",
    "            self.blocks[index][row_offset][column_offset] = new_value\n",
    "        else:\n",
    "            # But we can't just add a value if it's not in an existing block.\n",
    "            # We have to initialize a a new empty block and add it to our blocks.\n",
    "            new_block = [\n",
    "                [0 for _ in range(self.block_size[1])]\n",
    "                for _ in range(self.block_size[0])\n",
    "            ]\n",
    "            new_block[row_offset][column_offset] = new_value\n",
    "            self.blocks.insert(row_end, new_block)\n",
    "            self.column_indices.insert(row_end, column)\n",
    "            for row_index in range(row + 1, self._unscale_row(self.shape[0])[0] + 1):\n",
    "                self.row_extents[row_index] += 1\n",
    "            \n",
    "    def __len__(self):\n",
    "        # Our len here is a bit more complicated! It's the number of blocks\n",
    "        # times the number of values inside each block.\n",
    "        return len(self.blocks) * self.block_size[0] * self.block_size[1]\n",
    "\n",
    "\n",
    "data = [\n",
    "    [[1,  2],  [3,  4]],\n",
    "    [[5,  6],  [7,  8]],\n",
    "    [[9,  10], [11, 12]],\n",
    "    [[13, 14], [15, 16]],\n",
    "    [[17, 18], [19, 20]],\n",
    "    [[21, 22], [23, 24]]\n",
    "]\n",
    "row_extents = [0, 2, 3, 6]\n",
    "column_indices = [0, 2, 2, 0, 1, 2]\n",
    "\n",
    "naive_bsr = NaiveBSRMatrix(data, row_extents, column_indices, shape=(6, 6))\n",
    "\n",
    "naive_bsr.display()"
   ]
  },
  {
   "cell_type": "code",
   "execution_count": 50,
   "metadata": {
    "collapsed": false
   },
   "outputs": [
    {
     "data": {
      "image/png": "[encoded data removed]",
      "text/latex": [
       "$$14$$"
      ],
      "text/plain": [
       "14"
      ]
     },
     "execution_count": 50,
     "metadata": {},
     "output_type": "execute_result"
    }
   ],
   "source": [
    "naive_bsr[4, 1]"
   ]
  },
  {
   "cell_type": "code",
   "execution_count": 51,
   "metadata": {
    "collapsed": false
   },
   "outputs": [
    {
     "data": {
      "image/png": "[encoded data removed]",
      "text/latex": [
       "$$0$$"
      ],
      "text/plain": [
       "0"
      ]
     },
     "execution_count": 51,
     "metadata": {},
     "output_type": "execute_result"
    }
   ],
   "source": [
    "naive_bsr[2, 2]"
   ]
  },
  {
   "cell_type": "code",
   "execution_count": 52,
   "metadata": {
    "collapsed": false
   },
   "outputs": [
    {
     "data": {
      "text/latex": [
       "$$\\left[\\begin{matrix}1 & 2 & 0 & 0 & 5 & 6\\\\3 & 4 & 0 & 0 & 7 & 8\\\\0 & 0 & 0 & 0 & 9 & 10\\\\0 & 0 & 11 & 0 & 11 & 12\\\\13 & 14 & 17 & 18 & 21 & 22\\\\15 & 16 & 19 & 20 & 23 & 24\\end{matrix}\\right]$$"
      ],
      "text/plain": [
       "⎡1   2   0   0   5   6 ⎤\n",
       "⎢                      ⎥\n",
       "⎢3   4   0   0   7   8 ⎥\n",
       "⎢                      ⎥\n",
       "⎢0   0   0   0   9   10⎥\n",
       "⎢                      ⎥\n",
       "⎢0   0   11  0   11  12⎥\n",
       "⎢                      ⎥\n",
       "⎢13  14  17  18  21  22⎥\n",
       "⎢                      ⎥\n",
       "⎣15  16  19  20  23  24⎦"
      ]
     },
     "metadata": {},
     "output_type": "display_data"
    }
   ],
   "source": [
    "naive_bsr[3, 2] = 11\n",
    "\n",
    "naive_bsr.display()"
   ]
  },
  {
   "cell_type": "markdown",
   "metadata": {},
   "source": [
    "---\n",
    "\n",
    "## DIA Representation\n",
    "\n",
    "`DIA` format, short for diagonal, represents the data as a series of vectors along different diagonals, the diagonals themselves being indicated by relative offsets from the main diagonal.\n",
    "\n",
    "The identity matrix provides a simple example."
   ]
  },
  {
   "cell_type": "code",
   "execution_count": 53,
   "metadata": {
    "collapsed": false
   },
   "outputs": [
    {
     "data": {
      "text/latex": [
       "$$\\left[\\begin{matrix}1 & 0 & 0 & 0 & 0 & 0 & 0 & 0 & 0 & 0\\\\0 & 1 & 0 & 0 & 0 & 0 & 0 & 0 & 0 & 0\\\\0 & 0 & 1 & 0 & 0 & 0 & 0 & 0 & 0 & 0\\\\0 & 0 & 0 & 1 & 0 & 0 & 0 & 0 & 0 & 0\\\\0 & 0 & 0 & 0 & 1 & 0 & 0 & 0 & 0 & 0\\\\0 & 0 & 0 & 0 & 0 & 1 & 0 & 0 & 0 & 0\\\\0 & 0 & 0 & 0 & 0 & 0 & 1 & 0 & 0 & 0\\\\0 & 0 & 0 & 0 & 0 & 0 & 0 & 1 & 0 & 0\\\\0 & 0 & 0 & 0 & 0 & 0 & 0 & 0 & 1 & 0\\\\0 & 0 & 0 & 0 & 0 & 0 & 0 & 0 & 0 & 1\\end{matrix}\\right]$$"
      ],
      "text/plain": [
       "⎡1  0  0  0  0  0  0  0  0  0⎤\n",
       "⎢                            ⎥\n",
       "⎢0  1  0  0  0  0  0  0  0  0⎥\n",
       "⎢                            ⎥\n",
       "⎢0  0  1  0  0  0  0  0  0  0⎥\n",
       "⎢                            ⎥\n",
       "⎢0  0  0  1  0  0  0  0  0  0⎥\n",
       "⎢                            ⎥\n",
       "⎢0  0  0  0  1  0  0  0  0  0⎥\n",
       "⎢                            ⎥\n",
       "⎢0  0  0  0  0  1  0  0  0  0⎥\n",
       "⎢                            ⎥\n",
       "⎢0  0  0  0  0  0  1  0  0  0⎥\n",
       "⎢                            ⎥\n",
       "⎢0  0  0  0  0  0  0  1  0  0⎥\n",
       "⎢                            ⎥\n",
       "⎢0  0  0  0  0  0  0  0  1  0⎥\n",
       "⎢                            ⎥\n",
       "⎣0  0  0  0  0  0  0  0  0  1⎦"
      ]
     },
     "metadata": {},
     "output_type": "display_data"
    }
   ],
   "source": [
    "identity_10 = np.matrix(np.identity(n=10), dtype=np.int64)\n",
    "\n",
    "display_matrix(identity_10)"
   ]
  },
  {
   "cell_type": "markdown",
   "metadata": {},
   "source": [
    "We can construct the `scipy` sparse version by passing this dense matrix to the `dia_matrix` constructor."
   ]
  },
  {
   "cell_type": "code",
   "execution_count": 54,
   "metadata": {
    "collapsed": false
   },
   "outputs": [
    {
     "data": {
      "text/plain": [
       "<10x10 sparse matrix of type '<class 'numpy.int64'>'\n",
       "\twith 10 stored elements (1 diagonals) in DIAgonal format>"
      ]
     },
     "execution_count": 54,
     "metadata": {},
     "output_type": "execute_result"
    }
   ],
   "source": [
    "mat_dia = sparse.dia_matrix(identity_10)\n",
    "\n",
    "mat_dia"
   ]
  },
  {
   "cell_type": "markdown",
   "metadata": {},
   "source": [
    "Looking at its canonical representation, we find that we have an array of our main diagonal and a single offset value of zero."
   ]
  },
  {
   "cell_type": "code",
   "execution_count": 55,
   "metadata": {
    "collapsed": false
   },
   "outputs": [
    {
     "data": {
      "text/plain": [
       "(array([[1, 1, 1, 1, 1, 1, 1, 1, 1, 1]]), array([0], dtype=int32))"
      ]
     },
     "execution_count": 55,
     "metadata": {},
     "output_type": "execute_result"
    }
   ],
   "source": [
    "mat_dia.data, mat_dia.offsets"
   ]
  },
  {
   "cell_type": "markdown",
   "metadata": {},
   "source": [
    "To get a better handle on how this works, let's make a $5 \\times 5$ matrix which has $1$ on its main diagonal, even numbers above it, odd numbers below it, up to $5$."
   ]
  },
  {
   "cell_type": "code",
   "execution_count": 56,
   "metadata": {
    "collapsed": false
   },
   "outputs": [
    {
     "data": {
      "text/latex": [
       "$$\\left[\\begin{matrix}1 & 2 & 4 & 0 & 0\\\\3 & 1 & 2 & 4 & 0\\\\5 & 3 & 1 & 2 & 4\\\\0 & 5 & 3 & 1 & 2\\\\0 & 0 & 5 & 3 & 1\\end{matrix}\\right]$$"
      ],
      "text/plain": [
       "⎡1  2  4  0  0⎤\n",
       "⎢             ⎥\n",
       "⎢3  1  2  4  0⎥\n",
       "⎢             ⎥\n",
       "⎢5  3  1  2  4⎥\n",
       "⎢             ⎥\n",
       "⎢0  5  3  1  2⎥\n",
       "⎢             ⎥\n",
       "⎣0  0  5  3  1⎦"
      ]
     },
     "metadata": {},
     "output_type": "display_data"
    }
   ],
   "source": [
    "data = [\n",
    "    [1, 2, 4, 0, 0],\n",
    "    [3, 1, 2, 4, 0],\n",
    "    [5, 3, 1, 2, 4],\n",
    "    [0, 5, 3, 1, 2],\n",
    "    [0, 0, 5, 3, 1]\n",
    "]\n",
    "mat_dia = sparse.dia_matrix(data, shape=(5, 5))\n",
    "\n",
    "display_matrix(mat_dia.todense())"
   ]
  },
  {
   "cell_type": "code",
   "execution_count": 57,
   "metadata": {
    "collapsed": false
   },
   "outputs": [
    {
     "data": {
      "text/plain": [
       "(array([[5, 5, 5, 0, 0],\n",
       "        [3, 3, 3, 3, 0],\n",
       "        [1, 1, 1, 1, 1],\n",
       "        [0, 2, 2, 2, 2],\n",
       "        [0, 0, 4, 4, 4]]), array([-2, -1,  0,  1,  2], dtype=int32))"
      ]
     },
     "execution_count": 57,
     "metadata": {},
     "output_type": "execute_result"
    }
   ],
   "source": [
    "mat_dia.data, mat_dia.offsets"
   ]
  },
  {
   "cell_type": "markdown",
   "metadata": {},
   "source": [
    "Looking inside this one we can see that our diagonals are each in their own array, with an array indicating their offsets from the main diagonal—negative being below, positive being above, and 0 being the main diagonal."
   ]
  },
  {
   "cell_type": "code",
   "execution_count": 58,
   "metadata": {
    "collapsed": false
   },
   "outputs": [
    {
     "data": {
      "text/latex": [
       "$$\\left[\\begin{matrix}1 & 2 & 4 & 0 & 0\\\\3 & 1 & 2 & 4 & 0\\\\5 & 3 & 1 & 2 & 4\\\\0 & 5 & 3 & 1 & 2\\\\0 & 0 & 5 & 3 & 1\\end{matrix}\\right]$$"
      ],
      "text/plain": [
       "⎡1  2  4  0  0⎤\n",
       "⎢             ⎥\n",
       "⎢3  1  2  4  0⎥\n",
       "⎢             ⎥\n",
       "⎢5  3  1  2  4⎥\n",
       "⎢             ⎥\n",
       "⎢0  5  3  1  2⎥\n",
       "⎢             ⎥\n",
       "⎣0  0  5  3  1⎦"
      ]
     },
     "metadata": {},
     "output_type": "display_data"
    }
   ],
   "source": [
    "class NaiveDIAMatrix(NaiveSparseMatrix):\n",
    "    \n",
    "    def __init__(self, diagonals, offsets, **kwargs):\n",
    "        self.diagonals = diagonals\n",
    "        self.offsets = offsets\n",
    "        super().__init__(**kwargs)\n",
    "        \n",
    "    def __iter__(self):\n",
    "        # Iterate a range (0, rows) to iterate by row index.\n",
    "        for row in range(self.shape[0]):\n",
    "            # Enumerate the offsets with index so that we can use that\n",
    "            # index to access the diagonals.\n",
    "            for index, offset in enumerate(self.offsets):\n",
    "                # Whether a diagonal is visible is relative to the current row.\n",
    "                # All the positive-offset diagonals are visible in the first row,\n",
    "                # and all the negative-offset diagonals are visible in the last\n",
    "                # row. The inequality check below handles those cases and the\n",
    "                # in-between cases.\n",
    "                if row * -1 <= offset < self.shape[1] - row:\n",
    "                    yield row, row + offset, self.diagonals[index][row + offset]\n",
    "\n",
    "    def __getitem__(self, coord):\n",
    "        # As mentioned above, offsets are relative to row. In fact, the offset\n",
    "        # is equal to the column index minus the row index. So we can calculate\n",
    "        # which diagonal a provided coordinate would belong to by calculating\n",
    "        # that offset, which we use to check the offsets array to find the value.\n",
    "        row, column = coord\n",
    "        offset = column - row\n",
    "        try:\n",
    "            index = self.offsets.index(offset)\n",
    "        except ValueError:\n",
    "            return 0\n",
    "        \n",
    "        return self.diagonals[index][column]\n",
    "            \n",
    "    def __setitem__(self, coord, new_value):\n",
    "        # Setting and item is similar to getting an item, so long as the diagonal\n",
    "        # already exists.\n",
    "        row, column = coord\n",
    "        offset = column - row\n",
    "        if offset in self.offsets:\n",
    "            index = self.offsets.index(offset)\n",
    "            self.diagonals[index][column] = new_value\n",
    "        # If the diagonal does not yet exist, we have to create an empty one and\n",
    "        # set the provided index to the provided value.\n",
    "        else:\n",
    "            new_diagonal = [0 for _ in range(self.shape[0])]\n",
    "            new_diagonal[column] = new_value\n",
    "            self.diagonals.append(new_diagonal)\n",
    "            self.offsets.append(offset)\n",
    "            \n",
    "    def __len__(self):\n",
    "        # Our len here is a bit more complicated! It's the number of blocks\n",
    "        # times the number of values inside each block.\n",
    "        return sum(self.shape[0] - abs(offset) for offset in self.offsets)\n",
    "\n",
    "\n",
    "diagonals = [\n",
    "    [5, 5, 5, 0, 0],\n",
    "    [3, 3, 3, 3, 0],\n",
    "    [1, 1, 1, 1, 1],\n",
    "    [0, 2, 2, 2, 2],\n",
    "    [0, 0, 4, 4, 4]\n",
    "]\n",
    "\n",
    "offsets = [-2, -1,  0,  1,  2]\n",
    "naive_dia = NaiveDIAMatrix(diagonals, offsets, shape=(5, 5))\n",
    "\n",
    "naive_dia.display()"
   ]
  },
  {
   "cell_type": "code",
   "execution_count": 59,
   "metadata": {
    "collapsed": false
   },
   "outputs": [
    {
     "data": {
      "image/png": "[encoded data removed]",
      "text/latex": [
       "$$2$$"
      ],
      "text/plain": [
       "2"
      ]
     },
     "execution_count": 59,
     "metadata": {},
     "output_type": "execute_result"
    }
   ],
   "source": [
    "naive_dia[3, 4]"
   ]
  },
  {
   "cell_type": "code",
   "execution_count": 60,
   "metadata": {
    "collapsed": false
   },
   "outputs": [
    {
     "data": {
      "image/png": "[encoded data removed]",
      "text/latex": [
       "$$1$$"
      ],
      "text/plain": [
       "1"
      ]
     },
     "execution_count": 60,
     "metadata": {},
     "output_type": "execute_result"
    }
   ],
   "source": [
    "naive_dia[2, 2]"
   ]
  },
  {
   "cell_type": "code",
   "execution_count": 61,
   "metadata": {
    "collapsed": false
   },
   "outputs": [
    {
     "data": {
      "image/png": "[encoded data removed]",
      "text/latex": [
       "$$0$$"
      ],
      "text/plain": [
       "0"
      ]
     },
     "execution_count": 61,
     "metadata": {},
     "output_type": "execute_result"
    }
   ],
   "source": [
    "naive_dia[4, 0]"
   ]
  },
  {
   "cell_type": "code",
   "execution_count": 62,
   "metadata": {
    "collapsed": false
   },
   "outputs": [
    {
     "data": {
      "image/png": "[encoded data removed]",
      "text/latex": [
       "$$19$$"
      ],
      "text/plain": [
       "19"
      ]
     },
     "execution_count": 62,
     "metadata": {},
     "output_type": "execute_result"
    }
   ],
   "source": [
    "len(naive_dia)"
   ]
  },
  {
   "cell_type": "code",
   "execution_count": 63,
   "metadata": {
    "collapsed": false
   },
   "outputs": [
    {
     "data": {
      "image/png": "[encoded data removed]",
      "text/latex": [
       "$$20$$"
      ],
      "text/plain": [
       "20"
      ]
     },
     "execution_count": 63,
     "metadata": {},
     "output_type": "execute_result"
    }
   ],
   "source": [
    "naive_dia[4, 0] = 9\n",
    "\n",
    "len(naive_dia)"
   ]
  },
  {
   "cell_type": "code",
   "execution_count": 64,
   "metadata": {
    "collapsed": false,
    "scrolled": true
   },
   "outputs": [
    {
     "data": {
      "text/latex": [
       "$$\\left[\\begin{matrix}1 & 2 & 4 & 0 & 0\\\\3 & 1 & 2 & 4 & 0\\\\5 & 3 & 1 & 2 & 4\\\\0 & 5 & 3 & 1 & 2\\\\9 & 0 & 5 & 3 & 1\\end{matrix}\\right]$$"
      ],
      "text/plain": [
       "⎡1  2  4  0  0⎤\n",
       "⎢             ⎥\n",
       "⎢3  1  2  4  0⎥\n",
       "⎢             ⎥\n",
       "⎢5  3  1  2  4⎥\n",
       "⎢             ⎥\n",
       "⎢0  5  3  1  2⎥\n",
       "⎢             ⎥\n",
       "⎣9  0  5  3  1⎦"
      ]
     },
     "metadata": {},
     "output_type": "display_data"
    }
   ],
   "source": [
    "naive_dia.display()"
   ]
  },
  {
   "cell_type": "markdown",
   "metadata": {
    "collapsed": false
   },
   "source": [
    "---\n",
    "\n",
    "## Conclusion\n",
    "\n",
    "Sparse matrices might seem mystifying at first glance, but they're straightforward enough that every flavor of representation available in `scipy.sparse` is easy enough to read and write using (mostly) pure Python.\n",
    "\n",
    "That being said, there's a lot more to learn about sparse matrices representations — particularly, how the various representations can be leveraged to optimize mathematical operations and the complexity of constructing and converting between these representations. I wanted to provide examples in this post of how sparse matrices naturally arise from certain applications and I still hope to do so in a future post.\n",
    "\n",
    "Thanks for reading this far! You can ask questions, file corrections or otherwise make noise towards me on [Twitter](https://twitter.com/heydenberk) and I'll edit this post to link to the HN thread when and if it comes into existence."
   ]
  },
  {
   "cell_type": "code",
   "execution_count": null,
   "metadata": {
    "collapsed": true
   },
   "outputs": [],
   "source": []
  },
  {
   "cell_type": "code",
   "execution_count": null,
   "metadata": {
    "collapsed": true
   },
   "outputs": [],
   "source": []
  },
  {
   "cell_type": "code",
   "execution_count": null,
   "metadata": {
    "collapsed": true
   },
   "outputs": [],
   "source": []
  }
 ],
 "metadata": {
  "kernelspec": {
   "display_name": "Python 3",
   "language": "python",
   "name": "python3"
  },
  "language_info": {
   "codemirror_mode": {
    "name": "ipython",
    "version": 3
   },
   "file_extension": ".py",
   "mimetype": "text/x-python",
   "name": "python",
   "nbconvert_exporter": "python",
   "pygments_lexer": "ipython3",
   "version": "3.5.2"
  }
 },
 "nbformat": 4,
 "nbformat_minor": 1
}
